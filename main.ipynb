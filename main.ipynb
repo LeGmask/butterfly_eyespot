{
 "cells": [
  {
   "cell_type": "markdown",
   "metadata": {
    "tags": []
   },
   "source": [
    "# Modelling butterfly wing eyespot patterns"
   ]
  },
  {
   "cell_type": "code",
   "execution_count": 1,
   "metadata": {
    "collapsed": false,
    "jupyter": {
     "outputs_hidden": false
    }
   },
   "outputs": [],
   "source": [
    "import numpy as np\n",
    "import scipy\n",
    "from IPython.display import HTML\n",
    "from matplotlib import animation\n",
    "from matplotlib import pyplot as plt"
   ]
  },
  {
   "cell_type": "markdown",
   "metadata": {
    "tags": []
   },
   "source": [
    "![](Image/bicyclus.jpg)\n",
    "\n",
    "## Étudions au préalable le laplacian en dimension deux :\n",
    "Afin de pouvoir comprendre comment réaliser des simulations numériques d'équation aux dérivées partielles en dimension deux contenant notament un opérateur laplacien de dimension 2, nous nous intéressons d'abord à l'équation de la chaleur en dimension 2 :\n",
    "$$\n",
    "\\begin{align*}\n",
    "\\frac{\\partial u}{\\partial t}&=\\sigma\\nabla^2 u\\\\\n",
    "\\Leftrightarrow \\frac{\\partial u}{\\partial t} &= \\sigma (\\frac{\\partial^{2} u}{\\partial^{2} x}+\\frac{\\partial^{2} u}{\\partial^{2} y})\n",
    "\\end{align*}\n",
    "$$\n",
    "\n",
    "Pour $(t, x, y) \\in \\mathbb{R_+^*} \\times [0,1] \\times [0,1]$, une condition initiale u(0, x, y) = f(x) ainsi que des conditions aux limites.\n",
    "\n",
    "On peut tout d'abord approximer l'opérateur du laplacien en utilisant la [méthode des différences finies](https://en.wikipedia.org/wiki/Finite_difference_method#Example:_The_Laplace_operator) :\n",
    "\n",
    "$$\n",
    "\\begin{align*}\n",
    "\\frac{\\partial^{2} u}{\\partial^{2} x}+\\frac{\\partial^{2} u}{\\partial^{2} y} &\\approx \\frac{u(t, x_{i+1}, y_j)-2u(t, x_i, y_j)+u(t, x_{i-1}, y_j)}{h^2} + \\frac{u(t, x_{i}, y_{j+1})-2u(t, x_i, y_j)+u(t, x_i, y_{j-1})}{h^2} \\\\\n",
    "\\frac{\\partial^{2} u}{\\partial^{2} x}+\\frac{\\partial^{2} u}{\\partial^{2} y}\t &\\approx \\frac{u(t, x_{i+1}, y_j) + u(t, x_{i}, y_{j+1}) - 4u(t, x_i, y_j) + u(t, x_{i-1}, y_j)+u(t, x_i, y_{j-1})}{h^2}\n",
    "\\end{align*}\n",
    "$$\n",
    "\n",
    "Ici nous nous intéresserons à 2 types de conditions aux limites :\n",
    "- Condition aux limites de Neumann : n'impliquant aucuns flux entrants ou sortants de matière dans le domaine.\n",
    "- Condition aux limites Dirichlet : imposant des valeurs à respecter aux frontières du modèle.\n",
    "\n",
    "Lors du TP n°5, nous avons vu que sur l'intervalle $[0,1]$ nous pouvons réaliser un maillage à pas constant caractérisé par $M+1$ nœuds, séparer par un pas $h=\\frac{1}{M}$, ce qui nous donne :\n",
    "- pour $x$ : $x_i = ih,\\, 0 \\leq i \\leq M$\n",
    "- pour $y$ : $y_i = ih,\\, 0 \\leq i \\leq M$\n",
    "\n",
    "Ainsi, si on s'intéresse a une fonction de dimension 2 définie sur l'intervalle $[0,1] \\times [0,1]$ on peut alors généraliser le cas précédent et on obtient ainsi un maillage de $M+1^2$ nœuds avec un pas $h=\\frac{1}{M}$:\n",
    "$$(x_i, x_j) = (ih, jh),\\, 0\\leq i \\leq M, \\, 0\\leq j \\leq M$$\n",
    "\n",
    "Pour implémenter une résolution, nous allons nous appuyer sur la méthode des lignes en réalisant une semi-discrétisation de toutes les variables sauf une, ici le temps $t$ de telle sorte que $u(t,x_i,y_j) \\approx u_{i,j}(t)$. On obtient alors la famille d'équation différentielle ordinaires suivante :\n",
    "$$\n",
    "\\begin{align*}\n",
    "\\frac{du_{i,j}}{dt} \\approx \\sigma\\frac{u_{i+1,j}(t) + u_{i,j+1}(t) - 4u_{i,j}(t) + u_{i-1,j}(t)+u_{i,j-1}(t)}{h^2}\n",
    "\\end{align*}\n",
    "$$\n"
   ]
  },
  {
   "cell_type": "markdown",
   "source": [
    "### Utilisation d'un stencil\n",
    "Suivant la méthode des différences finies on sait que le point $i,j$ dépend des points qui l'entoure sur la grille, sachant qu'un stencil est un arrangement géométrique d'un résaux nodale. Par exemple, dans notre cas, le laplacien de dimensions 2 se résume a l'aide du stencil suivant :\n",
    "$$\\nabla^2u(x,y) = \\frac{1}{h^2} \\begin{bmatrix}0 & 1 & 0 \\\\ 1 & -4 & 1\\\\ 0 & 1 & 0\\end{bmatrix}$$\n",
    "\n",
    "Comme nous sommes en dimensions 2, il va nous être plus facile d'utiliser une matrice $\\mathcal{M}_{i,j}(\\mathbb{R})$, avec chaque coefficient $a_{i,j}$ représentant le $u_{i,j}$ correspondant. Pour calculer le laplacien sur chacun des points nous allons utiliser la convolution et le stencil associé au laplacien comme matrice de convolution également appelée noyeau.\n",
    "\n",
    "Rappelons tout d'abord que la convolution est le processus consistant à ajouter chaque élément de la matrice à ses voisins immédiats, pondéré par les coefficients de la matrice de convolution donc ici notre stencil comme représenter dans l'image suivante:\n",
    "<center>\n",
    "\t<img src=\"Image/convolution.png\"/>\n",
    "</center>\n",
    "\n",
    "Cependant, avec l'image, on peut facilement se rendre compte que cela ne marche pas pour les bords de notre matrice puisque la convolution nécessite des valeurs à l'extérieur des limites de l'image, d'autant plus qu'il faut prendre en compte les conditions au limites. C'est pourquoi il existe plusieur méthode dans la convolution pour palier a ce problème, ici nous ne nous intérésserons qu'a 2 méthode pour résoudre ce problèmes, 2 méthodes qui sont compatible avec nos conditions au limites :\n",
    "- La méthode `Mirroir` : c'est a dire que la matrice est conceptuellement reflétée sur les bords, par exemple :\n",
    "\n",
    "```\n",
    "mode       |   Ext   |         Input          |   Ext\n",
    "-----------+---------+------------------------+---------\n",
    "'mirror'   | 4  3  2 | 1  2  3  4  5  6  7  8 | 7  6  5\n",
    "```\n",
    "C'est conceptuellement la méthode qui correpond au condition au limites de Neumann, en effet le stencil au niveau du bord gauche de la matrice est égale à $\\nabla^2u(0,y) = \\frac{1}{h^2} \\begin{bmatrix}0 & 1 & 0 \\\\ 0 & -4 & 2\\\\ 0 & 1 & 0\\end{bmatrix}$ puisque $\\frac{\\partial u}{\\partial x}(t, 0, y) = 0$. Or on remarque que l'utilisation de la méthode du mirroire permet justement d'obtenir le même résultat que celui obtenu avec le stencil défini précédement.\n",
    "\n",
    "- La méthode `Constante`: c'est-à-dire que les mêmes valeurs sont relfétée sur les bords :\n",
    "```\n",
    "mode       |   Ext   |         Input          |   Ext\n",
    "-----------+---------+------------------------+---------\n",
    "'constant' | 0  0  0 | 1  2  3  4  5  6  7  8 | 0  0  0\n",
    "```\n",
    "La valeur de la constante est modifiable, ici on se rapproche d'une condition initiale de Dirichlet, a la nuance près qu'on ne peut pas choisir spécifiquement pour chaque nœud la valeur de la constante, mais uniquement une constante globale. Cela n'est pas embêtant dans le cadre de notre projet puisque nous utiliserons sur notre modèle exclusivement la methode mirror, et utiliserons la méthode de la constante seulement lors de tests sur l'équation de la chaleur en dimension 2.\n",
    "\n",
    "Implémentons alors la fonction `Laplacian_2D` qui permet de calculer l'application du stencil sur la matrice `u` en fonction du pas $h$ :"
   ],
   "metadata": {
    "collapsed": false
   }
  },
  {
   "cell_type": "code",
   "execution_count": 2,
   "metadata": {},
   "outputs": [],
   "source": [
    "def Laplacian_2D(u: np.ndarray, h: int | float, boundary_condition: str = 'neumann',\n",
    "\t\t\t\t cval: int | float = 0) -> np.ndarray:\n",
    "\t\"\"\"\n",
    "    The Laplacian_2D function computes the tow-dimensional Laplacian of a 2D array.\n",
    "\n",
    "\n",
    "    :param u:np.ndarray: Pass the input array\n",
    "    :param h:int|float: Set the size of the stencil used in the convolution\n",
    "    :param boundary_condition:str: Specify the boundary condition, default to 'neumann',\n",
    "     in fact it's simply convert the boundary condition to the appropriate boundary method used in scipy\n",
    "    :param cval:int|float: Set the value of the pixels outside the array if dirichlet boundary condition, default to 0\n",
    "    :return: The two-dimensional laplacian of the input u\n",
    "    \"\"\"\n",
    "\n",
    "\tboundary_condition_to_mode = {'neumann': 'mirror', 'dirichlet': 'constant'}\n",
    "\n",
    "\tstencil = np.array([\n",
    "\t\t[0, 1, 0],\n",
    "\t\t[1, -4, 1],\n",
    "\t\t[0, 1, 0]\n",
    "\t]) / h ** 2\n",
    "\n",
    "\treturn scipy.ndimage.convolve(u, stencil, mode=boundary_condition_to_mode[boundary_condition], cval=cval)"
   ]
  },
  {
   "cell_type": "markdown",
   "source": [],
   "metadata": {
    "collapsed": false
   }
  },
  {
   "cell_type": "code",
   "execution_count": 1,
   "metadata": {
    "collapsed": false,
    "jupyter": {
     "outputs_hidden": false
    }
   },
   "outputs": [],
   "source": [
    "def Diffuse_2D(t, u, shape, h, sigma):\n",
    "\t\"\"\"\n",
    "    The Diffuse_2D function takes in a time t, an initial condition u at time t, the shape of the spatial grid (shape),\n",
    "    the size of each grid cell (h), and a diffusion coefficient sigma. It returns the derivative du_dt at that point in time.\n",
    "    \n",
    "    :param t: Pass the time value to the function\n",
    "    :param u: Pass the initial condition to the function\n",
    "    :param shape: Reshape the array to a 2d matrix\n",
    "    :param h: Define the size of the grid cells\n",
    "    :param sigma: Define the diffusion coefficient\n",
    "    :return: The change in concentration over time, given the initial concentration (u), the shape of the grid (shape), and diffusion coefficient sigma\n",
    "    \"\"\"\n",
    "\tu = u.reshape(shape)\n",
    "\n",
    "\tdu_dt = sigma * Laplacian_2D(u, h, boundary_condition='dirichlet', cval=0)\n",
    "\n",
    "\treturn du_dt.flatten()\n"
   ]
  },
  {
   "cell_type": "code",
   "execution_count": 2,
   "metadata": {
    "collapsed": false,
    "jupyter": {
     "outputs_hidden": false
    }
   },
   "outputs": [],
   "source": [
    "def periodic_IC(x, k):\n",
    "\t\"\"\"\n",
    "    The periodic_IC function takes two arguments, x and k.\n",
    "    It returns the value of a function that is periodic with period 1 in the x variable.\n",
    "    The function has a single parameter, k, which controls how much it deviates from being periodic.\n",
    "    \n",
    "    :param x: Define the position of the initial condition\n",
    "    :param k: Determine the number of waves in the initial condition\n",
    "    :return: A periodic function\n",
    "    \"\"\"\n",
    "\treturn (1. + np.cos(2. * k * np.pi * x)) / 2."
   ]
  },
  {
   "cell_type": "code",
   "execution_count": 5,
   "metadata": {
    "collapsed": false,
    "jupyter": {
     "outputs_hidden": false
    }
   },
   "outputs": [],
   "source": [
    "def random_IC(x):\n",
    "\t\"\"\"\n",
    "    The random_IC function takes a matrix as input and returns a randomly generated\n",
    "    matrix of the same shape. This function is useful for testing purposes.\n",
    "    \n",
    "    :param x: Define the dimensions of the array\n",
    "    :return: A numpy array of random numbers\n",
    "    \"\"\"\n",
    "\treturn np.random.rand(x.shape[0], x.shape[1])"
   ]
  },
  {
   "cell_type": "code",
   "execution_count": 6,
   "metadata": {
    "collapsed": false,
    "jupyter": {
     "outputs_hidden": false
    }
   },
   "outputs": [
    {
     "name": "stdout",
     "output_type": "stream",
     "text": [
      "CPU times: user 1.02 s, sys: 3.13 s, total: 4.14 s\n",
      "Wall time: 569 ms\n"
     ]
    }
   ],
   "source": [
    "# time parameters\n",
    "time_begin = 0.\n",
    "time_end = 10.\n",
    "time_span = (time_begin, time_end)\n",
    "number_pts = 200\n",
    "time_eval = np.linspace(time_begin, time_end, number_pts)\n",
    "\n",
    "# space parameters\n",
    "M = 100\n",
    "x = np.linspace(0., 1., M ** 2).reshape(M, M)\n",
    "# x = np.full(x.shape, 30)\n",
    "# x[0, :] = 100\n",
    "h = 1. / (M + 1.)\n",
    "\n",
    "# physical parameter\n",
    "sigma = 0.0002\n",
    "\n",
    "# initial condition\n",
    "# x = periodic_IC(x, np.pi)\n",
    "x = random_IC(x)\n",
    "# sol = solve_ivp(Diffuse_w_Neumann_BC_2D, time_span, x.flatten(), args=(x.shape, h, sigma), t_eval=time_eval)\n",
    "# sol.y\n",
    "% time sol = solve_ivp(Diffuse_2D, time_span, x.flatten(), args=(x.shape, h, sigma), t_eval=time_eval)\n"
   ]
  },
  {
   "cell_type": "code",
   "execution_count": null,
   "metadata": {
    "collapsed": false,
    "jupyter": {
     "outputs_hidden": false
    }
   },
   "outputs": [],
   "source": [
    "figure, axes = plt.subplots(1, 1, figsize=(12, 9))\n",
    "line = axes.matshow(sol.y[:, 0].reshape(x.shape))\n",
    "\n",
    "\n",
    "# 2. initialize the line objects\n",
    "def init():\n",
    "\t# axes.set_xlim(x.min(), x.max())\n",
    "\t# axes.set_ylim(0., 1.)\n",
    "\t# axes.grid()\n",
    "\t# axes.set_xlabel('space')\n",
    "\t# axes.set_ylabel('u')\n",
    "\treturn axes\n",
    "\n",
    "\n",
    "# 3. animate function\n",
    "def animate(i):\n",
    "\taxes.cla()\n",
    "\taxes.imshow(sol.y[:, i].reshape(x.shape), vmin=np.amin(sol.y),\n",
    "\t\t\t\tvmax=np.amax(sol.y))  # use vmin and vmax to avoid legend (color) change.\n",
    "\t# print(sol.y[:,i])\n",
    "\taxes.set_title(f'Evolution until time {sol.t[i]:.2f}')\n",
    "\t#    figure.suptitle(f'Evolution until time {sol.t[i]:.2f}')\n",
    "\treturn axes\n",
    "\n",
    "\n",
    "# 4. call animation\n",
    "fancy_plot = animation.FuncAnimation(figure, animate, frames=sol.t.size,\n",
    "\t\t\t\t\t\t\t\t\t init_func=init, blit=False)\n",
    "\n",
    "HTML(fancy_plot.to_jshtml())"
   ]
  },
  {
   "cell_type": "code",
   "execution_count": null,
   "metadata": {
    "collapsed": false,
    "jupyter": {
     "outputs_hidden": false
    }
   },
   "outputs": [],
   "source": [
    "def function_test(t, u, shape, h, A0, k1=1.0, k2=0.05, k3=4.0, k4=0.01, k5=4.0, D1=0.002, D2=0.002):\n",
    "\t\"\"\"\n",
    "    The function_test function computes the time derivatives for each of the species in a chemical reaction.\n",
    "    \n",
    "    :param t: Indicate the current time\n",
    "    :param u: Pass the initial conditions to the function\n",
    "    :param shape: Reshape the array into a matrix\n",
    "    :param h: Define the step size of the numerical integration\n",
    "    :param A0: Set the initial condition of the simulation\n",
    "    :param k1=1.0: Set the value of a0\n",
    "    :param k2=0.05: Set the value of k2\n",
    "    :param k3=4.0: Define the rate of production of protein p0\n",
    "    :param k4=0.01: Set the value of k4, which is the rate at which m2 decays into p0\n",
    "    :param k5=4.0: Set the value of k5 in function_test\n",
    "    :param D1=0.002: Set the diffusion coefficient of m2\n",
    "    :param D2=0.002: Set the diffusion coefficient of p2\n",
    "    :return: The derivative of the concentration of m and p with respect to time\n",
    "    \"\"\"\n",
    "\tM1, M2, P0, P1, P2 = np.split(u.reshape(shape[0] * 5, shape[1]), 5)\n",
    "\n",
    "\tA = A0 * np.exp(-k1 * t)\n",
    "\n",
    "\tdM1_dt = k1 * A - k2 * M1 - k3 * M1 * P0 + D1 * Laplacian_2D(M1, h)\n",
    "\tdM2_dt = k3 * M1 * P0 - k4 * M2 - k5 * M2 * P0 + D2 * Laplacian_2D(M2, h)\n",
    "\tdP0_dt = -k3 * M1 * P0 - k5 * M2 * P0\n",
    "\tdP1_dt = k3 * M1 * P0\n",
    "\tdP2_dt = k5 * M2 * P0\n",
    "\n",
    "\treturn np.concatenate((dM1_dt, dM2_dt, dP0_dt, dP1_dt, dP2_dt)).flatten()"
   ]
  },
  {
   "cell_type": "code",
   "execution_count": null,
   "metadata": {
    "collapsed": false,
    "jupyter": {
     "outputs_hidden": false
    }
   },
   "outputs": [],
   "source": [
    "time_begin = 0.\n",
    "time_end = 50.\n",
    "time_span = (time_begin, time_end)\n",
    "number_pts = 1000\n",
    "delta_t = 0.1\n",
    "# time_eval = np.linspace(time_begin, time_end, number_pts)\n",
    "time_eval = np.arange(time_begin, time_end, delta_t)\n",
    "\n",
    "# space parameters\n",
    "M = 101\n",
    "P1 = np.full((M, M), 0, dtype=float)\n",
    "P2 = np.full((M, M), 0, dtype=float)\n",
    "M1 = np.full((M, M), 0, dtype=float)\n",
    "M2 = np.full((M, M), 0, dtype=float)\n",
    "A0 = np.full((M, M), 0, dtype=float)\n",
    "P0 = np.full((M, M), 0.2, dtype=float)\n",
    "\n",
    "A0[M // 2 - 2:M // 2 + 3, M // 2 - 2:M // 2 + 3, ] = 20\n",
    "P0[M // 2 - 2:M // 2 + 3, M // 2 - 2:M // 2 + 3, ] = 0\n",
    "h = 1. / M\n",
    "\n",
    "% time sol = solve_ivp(function_test, time_span, np.concatenate((M1, M2, P0, P1, P2)).flatten(), args=((M, M), h, A0), t_eval=time_eval)\n"
   ]
  },
  {
   "cell_type": "code",
   "execution_count": null,
   "metadata": {
    "collapsed": false,
    "jupyter": {
     "outputs_hidden": false
    }
   },
   "outputs": [],
   "source": [
    "\n",
    "from src.model import Model\n",
    "\n",
    "simu = Model()\n",
    "\n",
    "simu.append_A0_pos([(10, 10)])\n",
    "simu.solve()\n",
    "sol = simu.solution"
   ]
  },
  {
   "cell_type": "code",
   "execution_count": null,
   "metadata": {
    "collapsed": false,
    "jupyter": {
     "outputs_hidden": false
    }
   },
   "outputs": [],
   "source": [
    "def color_region(P0, P1, P2):\n",
    "\t\"\"\"\n",
    "    The color_region function takes in three 2D arrays of probabilities and returns a 2D array\n",
    "    of the same shape where each element is an integer value corresponding to a class. The function \n",
    "    uses argmax to determine which class has the highest probability for each pixel, and then returns \n",
    "    an array with these values.\n",
    "    \n",
    "    :param P0: Store the values of the first layer in the image\n",
    "    :param P1: Specify the color of the pixel in p0 that is closest to p2\n",
    "    :param P2: Determine the color of the pixel\n",
    "    :return: A numpy array of the same size as p0, p1 and p2\n",
    "    \"\"\"\n",
    "\tcolor = np.empty(P0.shape)\n",
    "\tfor (x, y), value in np.ndenumerate(P0):\n",
    "\t\t# print(np.array([P0[x, y], P1[x,y], P2[x,y]]))\n",
    "\t\tmatch np.argmax(np.array([P0[x, y], P1[x, y], P2[x, y]])):\n",
    "\t\t\tcase 0.:\n",
    "\t\t\t\tcolor[x, y] = 0\n",
    "\t\t\tcase 1.:\n",
    "\t\t\t\tcolor[x, y] = 1\n",
    "\t\t\tcase 2.:\n",
    "\t\t\t\tcolor[x, y] = 2\n",
    "\treturn color\n"
   ]
  },
  {
   "cell_type": "code",
   "execution_count": null,
   "metadata": {
    "collapsed": false,
    "jupyter": {
     "outputs_hidden": false
    }
   },
   "outputs": [],
   "source": [
    "x = np.arange(0, M, 1)\n",
    "M1, M2, P0, P1, P2 = np.split(sol.y[:, 0].reshape(M * 5, M), 5)\n",
    "figure, axes = plt.subplots(1, 1, figsize=(12, 9))\n",
    "lineM1, = axes.plot(x, M1[M // 2, :])\n",
    "lineM2, = axes.plot(x, M2[M // 2, :])\n",
    "lineP0, = axes.plot(x, P0[M // 2, :])\n",
    "lineP1, = axes.plot(x, P1[M // 2, :])\n",
    "lineP2, = axes.plot(x, P2[M // 2, :])\n",
    "\n",
    "\n",
    "# 2. initialize the line objects\n",
    "def init():\n",
    "\taxes.set_xlim(x.min(), x.max())\n",
    "\taxes.set_ylim(0., .4)\n",
    "\taxes.grid()\n",
    "\taxes.set_xlabel('space')\n",
    "\taxes.set_ylabel('u')\n",
    "\treturn axes\n",
    "\n",
    "\n",
    "# 3. animate function\n",
    "def animate(i):\n",
    "\tM1, M2, P0, P1, P2 = np.split(sol.y[:, i].reshape(M * 5, M), 5)\n",
    "\tlineM1.set_data(x, M1[M // 2, :])\n",
    "\tlineM2.set_data(x, M2[M // 2, :])\n",
    "\tlineP0.set_data(x, P0[M // 2, :])\n",
    "\tlineP1.set_data(x, P1[M // 2, :])\n",
    "\tlineP2.set_data(x, P2[M // 2, :])\n",
    "\n",
    "\taxes.set_title(f'Evolution until time {sol.t[i]:.2f}')\n",
    "\treturn axes\n",
    "\n",
    "\n",
    "# 4. call animation\n",
    "fancy_plot = animation.FuncAnimation(figure, animate, frames=sol.t.size,\n",
    "\t\t\t\t\t\t\t\t\t init_func=init, blit=False)\n",
    "\n",
    "HTML(fancy_plot.to_jshtml())"
   ]
  },
  {
   "cell_type": "code",
   "execution_count": null,
   "metadata": {
    "collapsed": false,
    "jupyter": {
     "outputs_hidden": false
    }
   },
   "outputs": [],
   "source": [
    "simu = Model(time_span=(0, 30))\n",
    "\n",
    "simu.append_A0_pos([\n",
    "\t(49, 49), (50, 49), (51, 49),\n",
    "\t(49, 50), (50, 50), (51, 50),\n",
    "\t(49, 51), (50, 51), (51, 51),\n",
    "])\n",
    "simu.solve()\n",
    "sol = simu.solution"
   ]
  },
  {
   "cell_type": "code",
   "execution_count": null,
   "metadata": {
    "collapsed": false,
    "jupyter": {
     "outputs_hidden": false
    }
   },
   "outputs": [],
   "source": [
    "M1, _, P0, P1, P2 = np.split(sol.y[:, 0].reshape(M * 5, M), 5)\n",
    "figure, axes = plt.subplots(1, 1, figsize=(12, 9))\n",
    "_ = axes.imshow(color_region(P0, P1, P2), vmin=0, vmax=2)\n",
    "\n",
    "\n",
    "# 2. initialize the line objects\n",
    "def init():\n",
    "\t# axes.set_xlim(x.min(), x.max())\n",
    "\t# axes.set_ylim(0., 1.)\n",
    "\t# axes.grid()\n",
    "\t# axes.set_xlabel('space')\n",
    "\t# axes.set_ylabel('u')\n",
    "\treturn axes\n",
    "\n",
    "\n",
    "# 3. animate function\n",
    "def animate(i):\n",
    "\taxes.cla()\n",
    "\tM1, M2, P0, P1, P2 = np.split(sol.y[:, i].reshape(M * 5, M), 5)\n",
    "\taxes.imshow(color_region(P0, P1, P2), vmin=0, vmax=2)  # use vmin and vmax to avoid legend (color) change.\n",
    "\t# print(sol.y[:,i])\n",
    "\taxes.set_title(f'Evolution until time {sol.t[i]:.2f}')\n",
    "\t#    figure.suptitle(f'Evolution until time {sol.t[i]:.2f}')\n",
    "\treturn axes\n",
    "\n",
    "\n",
    "# 4. call animation\n",
    "fancy_plot = animation.FuncAnimation(figure, animate, frames=sol.t.size,\n",
    "\t\t\t\t\t\t\t\t\t init_func=init, blit=False)\n",
    "\n",
    "HTML(fancy_plot.to_jshtml())"
   ]
  }
 ],
 "metadata": {
  "kernelspec": {
   "display_name": "Python 3.10.7 64-bit",
   "language": "python",
   "name": "python3"
  },
  "language_info": {
   "codemirror_mode": {
    "name": "ipython",
    "version": 3
   },
   "file_extension": ".py",
   "mimetype": "text/x-python",
   "name": "python",
   "nbconvert_exporter": "python",
   "pygments_lexer": "ipython3",
   "version": "3.10.8"
  },
  "vscode": {
   "interpreter": {
    "hash": "e7370f93d1d0cde622a1f8e1c04877d8463912d04d973331ad4851f04de6915a"
   }
  }
 },
 "nbformat": 4,
 "nbformat_minor": 4
}
